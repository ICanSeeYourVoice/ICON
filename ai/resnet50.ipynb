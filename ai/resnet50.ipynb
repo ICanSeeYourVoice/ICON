{
 "cells": [
  {
   "cell_type": "markdown",
   "id": "5527e928",
   "metadata": {},
   "source": [
    "## 라이브러리 추가"
   ]
  },
  {
   "cell_type": "code",
   "execution_count": null,
   "id": "7b43350d",
   "metadata": {},
   "outputs": [],
   "source": [
    "import os\n",
    "import numpy as np\n",
    "import pathlib\n",
    "import librosa\n",
    "import librosa.display\n",
    "import torch\n",
    "import torch.nn as nn\n",
    "import torch.optim as optim\n",
    "from torch.utils.data import DataLoader, Dataset\n",
    "from torchvision import models, transforms\n",
    "from sklearn.model_selection import train_test_split\n",
    "from sklearn.preprocessing import LabelEncoder\n",
    "from sklearn.metrics import accuracy_score, classification_report, confusion_matrix\n",
    "import matplotlib.pyplot as plt\n",
    "import seaborn as sb\n",
    "from tqdm import tqdm\n",
    "import soundfile as sf\n",
    "from audiomentations import Compose, AddGaussianNoise, PitchShift, HighPassFilter\n",
    "import random"
   ]
  },
  {
   "cell_type": "markdown",
   "id": "f2f2314f",
   "metadata": {},
   "source": [
    "## 함수 및 클래스 정의"
   ]
  },
  {
   "cell_type": "code",
   "execution_count": 9,
   "id": "ecf722c1-692c-4804-91a9-8216452587f8",
   "metadata": {},
   "outputs": [
    {
     "name": "stdout",
     "output_type": "stream",
     "text": [
      "cuda\n"
     ]
    }
   ],
   "source": [
    "# 기본 설정\n",
    "target_sample_rate = 16000\n",
    "# 최대 5초\n",
    "img_height, img_width = 128, 431\n",
    "batch_size = 16\n",
    "hop_length = 256\n",
    "\n",
    "# GPU 메모리 비우기\n",
    "torch.cuda.empty_cache()\n",
    "\n",
    "# CUDA 설정\n",
    "os.environ[\"CUDA_LAUNCH_BLOCKING\"] = \"1\"\n",
    "\n",
    "# 올바른 장치 설정\n",
    "device = torch.device('cuda' if torch.cuda.is_available() else 'cpu')\n",
    "print(device)\n",
    "\n",
    "# 학습 함수\n",
    "def train(model, train_loader, criterion, optimizer):\n",
    "    model.train()\n",
    "    running_loss = 0.0\n",
    "    correct = 0\n",
    "    total = 0\n",
    "    for inputs, labels in tqdm(train_loader, desc=\"Training\", leave=False):\n",
    "        inputs, labels = inputs.to(device), labels.to(device).long()\n",
    "\n",
    "        optimizer.zero_grad()\n",
    "        outputs = model(inputs)\n",
    "        loss = criterion(outputs, labels)\n",
    "        loss.backward()\n",
    "        optimizer.step()\n",
    "\n",
    "        running_loss += loss.item() * inputs.size(0)\n",
    "        preds = torch.argmax(outputs, dim=1)\n",
    "        correct += (preds == labels).sum().item()\n",
    "        total += labels.size(0)\n",
    "    \n",
    "    accuracy = correct / total\n",
    "    return running_loss / len(train_loader.dataset), accuracy\n",
    "\n",
    "# 평가 함수\n",
    "def validate(model, val_loader, criterion):\n",
    "    model.eval()\n",
    "    running_loss = 0.0\n",
    "    correct = 0\n",
    "    total = 0\n",
    "    all_preds = []\n",
    "    all_labels = []\n",
    "    with torch.no_grad():\n",
    "        for inputs, labels in tqdm(val_loader, desc=\"Validation\", leave=False):\n",
    "            inputs, labels = inputs.to(device), labels.to(device).long()\n",
    "\n",
    "            outputs = model(inputs)\n",
    "            loss = criterion(outputs, labels)\n",
    "\n",
    "            running_loss += loss.item() * inputs.size(0)\n",
    "            preds = torch.argmax(outputs, dim=1)\n",
    "            correct += (preds == labels).sum().item()\n",
    "            total += labels.size(0)\n",
    "            all_preds.extend(preds.cpu().numpy())\n",
    "            all_labels.extend(labels.cpu().numpy())\n",
    "\n",
    "    accuracy = correct / total\n",
    "    return running_loss / len(val_loader.dataset), accuracy, all_preds, all_labels\n",
    "\n",
    "\n",
    "# 음성 -> 멜스펙토그램 변환\n",
    "def audio_to_melspectrogram(signal, sr, n_mels=128, fmax=8000):\n",
    "    mel_spec = librosa.feature.melspectrogram(y=signal, sr=sr, n_mels=n_mels, fmax=fmax, hop_length=hop_length)\n",
    "    mel_spec_db = librosa.power_to_db(mel_spec, ref=np.max)\n",
    "    return mel_spec_db\n",
    "\n",
    "# 윈도잉 기법 사용\n",
    "def split_audio_into_windows(signal, sr, window_size=1.0, hop_size=0.5):\n",
    "    window_samples = int(window_size * sr)\n",
    "    hop_samples = int(hop_size * sr)\n",
    "    windows = []\n",
    "    for start in range(0, len(signal) - window_samples + 1, hop_samples):\n",
    "        end = start + window_samples\n",
    "        windows.append(signal[start:end])\n",
    "    return windows\n",
    "\n",
    "# 아기 울음 소리가 있는 윈도우인지 확인. RMS 사용\n",
    "def is_crying_window(window, sr, threshold=0.01):\n",
    "    rms = librosa.feature.rms(y=window)[0]\n",
    "    return np.max(rms) > threshold\n",
    "\n",
    "# 음성 전처리.\n",
    "# 윈도잉 기법 사용 후 아이 울음소리부분만 학습\n",
    "def preprocess_audio_with_windows(file_path, sample_rate=16000, window_size=1.0, hop_size=0.5):\n",
    "    signal, sr = librosa.load(file_path, sr=sample_rate)\n",
    "    if len(signal) == 0:\n",
    "        return None\n",
    "\n",
    "    windows = split_audio_into_windows(signal, sr, window_size, hop_size)\n",
    "    selected_windows = [window for window in windows if is_crying_window(window, sr)]\n",
    "\n",
    "    # 울음소리 감지안되면 None 리턴\n",
    "    if len(selected_windows) == 0:\n",
    "        return None\n",
    "\n",
    "    # 울음소리 시작 윈도우 찾기\n",
    "    start_index = next((i for i, window in enumerate(windows) if is_crying_window(window, sr)), None)\n",
    "    if start_index is None:\n",
    "        return None\n",
    "\n",
    "    # 선택된 첫 번째 윈도우를 Mel-spectrogram으로 변환\n",
    "    mel_spec = audio_to_melspectrogram(windows[start_index], sr)\n",
    "    if mel_spec.shape[1] > img_width:\n",
    "        mel_spec = mel_spec[:, :img_width]\n",
    "    else:\n",
    "        mel_spec = np.pad(mel_spec, ((0, 0), (0, img_width - mel_spec.shape[1])), 'constant')\n",
    "\n",
    "    return mel_spec\n",
    "\n",
    "# 멜스펙트로그램 추출\n",
    "def extract_features(files):\n",
    "    print(\"특징 추출 시작\")\n",
    "    X = []\n",
    "    Y = []\n",
    "    for f in tqdm(files, total=len(files)):\n",
    "        mel_spec = preprocess_audio_with_windows(f)\n",
    "        if mel_spec is not None:\n",
    "            X.append(mel_spec)\n",
    "            label = str(f.parent.stem)\n",
    "            Y.append(label)\n",
    "\n",
    "    X = np.array(X)\n",
    "    Y = np.array(Y)\n",
    "    print(\"특징 추출 완료\")\n",
    "    return X, Y\n",
    "\n",
    "# 데이터 증강\n",
    "def augment_data(audioFileNames, classes, save_path):\n",
    "    print(\"데이터 증강 시작\")\n",
    "    obj = audioPreprocessing()\n",
    "    dictionary = {'pain': 13, 'discomfort': 45, 'hungry': 308, 'tired': 24}\n",
    "    print(\"증강 전: \", len(audioFileNames))\n",
    "    for idx, x in tqdm(enumerate(audioFileNames), total=len(audioFileNames)):\n",
    "        signal_org = obj.readAudio(x)\n",
    "        cc = pathlib.Path(save_path) / \"/\".join(str(x).split(os.sep)[1:])\n",
    "        cc.parent.mkdir(parents=True, exist_ok=True)\n",
    "        # hungry 제외\n",
    "        if classes[idx] == \"hungry\":\n",
    "            sf.write(cc, signal_org, target_sample_rate)\n",
    "        # 나머지는 hungry 개수만큼 증강\n",
    "        else:\n",
    "            augmentation_num = 308 // dictionary[classes[idx]]\n",
    "            for i in range(augmentation_num):\n",
    "                path_to_save = cc.with_name(f\"{cc.stem}_{idx}_{i}{cc.suffix}\")\n",
    "                augmented_signal = obj.audioAugmentation(signal_org, [0])\n",
    "                sf.write(path_to_save, augmented_signal, target_sample_rate)\n",
    "            sf.write(cc, signal_org, target_sample_rate)\n",
    "    print(\"After augmentation:\", len(list(pathlib.Path(save_path).rglob(\"*.wav\"))))\n",
    "    print(\"데이터 증강 완료\")\n",
    "\n",
    "# 음성 전처리 클래스\n",
    "class audioPreprocessing:\n",
    "    def __init__(self, sample_rate=22050):\n",
    "        self.sample_rate = sample_rate\n",
    "\n",
    "    def readAudio(self, fileName):\n",
    "        signal, sr = librosa.load(fileName, sr=self.sample_rate)\n",
    "        return signal\n",
    "\n",
    "    # 증강로직(논문 참고)\n",
    "    def audioAugmentation(self, signal, i):\n",
    "        aug_transform = []\n",
    "        aug_transform1 = [\n",
    "            AddGaussianNoise(min_amplitude=0.01, max_amplitude=0.015, p=1),\n",
    "            PitchShift(min_semitones=-2, max_semitones=2, p=1),\n",
    "            HighPassFilter(min_cutoff_freq=3000, max_cutoff_freq=4000, p=1)\n",
    "        ]\n",
    "        for j in i:\n",
    "            aug_transform.append(aug_transform1[j])\n",
    "        augment_raw_audio = Compose(aug_transform)\n",
    "        augmented_signal = augment_raw_audio(signal, self.sample_rate)\n",
    "        return augmented_signal\n",
    "\n",
    "# 폴더 밑에 있는 wav파일 로드\n",
    "def load_data(path):\n",
    "    print(f\"{path}에서 데이터 로딩 중\")\n",
    "    audio_files = sorted(list(pathlib.Path(path).rglob(\"*.wav\")))\n",
    "    classes = [str(f.parent).split(os.sep)[-1] for f in audio_files]\n",
    "    print(f\"데이터 로딩 완료: 총 {len(audio_files)}개의 파일\")\n",
    "    return audio_files, classes\n",
    "\n",
    "# 데이터셋 클래스\n",
    "class CryingDataset(Dataset):\n",
    "    def __init__(self, files, labels, label_encoder, transform=None):\n",
    "        self.files = files\n",
    "        self.labels = labels\n",
    "        self.label_encoder = label_encoder\n",
    "        self.transform = transform\n",
    "        self.filtered_files_labels = [\n",
    "            (file, label) for file, label in zip(files, labels)\n",
    "            if preprocess_audio_with_windows(file) is not None\n",
    "        ]\n",
    "\n",
    "    def __len__(self):\n",
    "        return len(self.filtered_files_labels)\n",
    "\n",
    "    def __getitem__(self, idx):\n",
    "        file, label = self.filtered_files_labels[idx]\n",
    "        mel_spec = preprocess_audio_with_windows(file)\n",
    "        if self.transform:\n",
    "            mel_spec = self.transform(mel_spec)\n",
    "        label = self.label_encoder.transform([label])[0]\n",
    "        return mel_spec, label\n",
    "\n",
    "# 모델 입력을 위한 텐서 변환 클래스\n",
    "class MelSpecToTensor:\n",
    "    def __call__(self, mel_spec):\n",
    "        mel_spec = torch.tensor(mel_spec, dtype=torch.float32)\n",
    "        mel_spec = mel_spec.unsqueeze(0)  # Add channel dimension\n",
    "        mel_spec = mel_spec.repeat(3, 1, 1)  # Repeat across the channel dimension to make it 3 channels\n",
    "        return mel_spec\n",
    "\n",
    "# resnet 클래스, 과적합 방지 드롭아웃 추가\n",
    "class CryingResNet(nn.Module):\n",
    "    def __init__(self, num_classes):\n",
    "        super(CryingResNet, self).__init__()\n",
    "        self.base_model = models.resnet50(pretrained=True)\n",
    "        self.base_model.fc = nn.Sequential(\n",
    "            nn.Dropout(0.5),\n",
    "            nn.Linear(self.base_model.fc.in_features, num_classes)\n",
    "        )\n",
    "\n",
    "    def forward(self, x):\n",
    "        return self.base_model(x)"
   ]
  },
  {
   "cell_type": "markdown",
   "id": "ef460c70",
   "metadata": {},
   "source": [
    "## 데이터 학습 시작"
   ]
  },
  {
   "cell_type": "code",
   "execution_count": 10,
   "id": "8cda57bf-0ec5-4a7b-9ede-4e955cb08abe",
   "metadata": {},
   "outputs": [
    {
     "name": "stdout",
     "output_type": "stream",
     "text": [
      "dataset/original에서 데이터 로딩 중\n",
      "데이터 로딩 완료: 총 390개의 파일\n",
      "데이터 증강 시작\n",
      "증강 전:  390\n"
     ]
    },
    {
     "name": "stderr",
     "output_type": "stream",
     "text": [
      "100%|████████████████████████████████████████████████████████████████████████████████| 390/390 [00:13<00:00, 28.52it/s]\n"
     ]
    },
    {
     "name": "stdout",
     "output_type": "stream",
     "text": [
      "After augmentation: 1247\n",
      "데이터 증강 완료\n",
      "dataset/augmented에서 데이터 로딩 중\n",
      "데이터 로딩 완료: 총 1247개의 파일\n",
      "모델 학습 시작\n",
      "에폭 1/50 시작\n"
     ]
    },
    {
     "name": "stderr",
     "output_type": "stream",
     "text": [
      "                                                                                                                       \r"
     ]
    },
    {
     "name": "stdout",
     "output_type": "stream",
     "text": [
      "Epoch 1/50, Train Loss: 1.1121, Train Accuracy: 0.4985, Val Loss: 1.2329, Val Accuracy: 0.4520\n",
      "모델 저장: 성능 향상됨\n",
      "에폭 2/50 시작\n"
     ]
    },
    {
     "name": "stderr",
     "output_type": "stream",
     "text": [
      "                                                                                                                       \r"
     ]
    },
    {
     "name": "stdout",
     "output_type": "stream",
     "text": [
      "Epoch 2/50, Train Loss: 0.9679, Train Accuracy: 0.6000, Val Loss: 1.0067, Val Accuracy: 0.5400\n",
      "모델 저장: 성능 향상됨\n",
      "에폭 3/50 시작\n"
     ]
    },
    {
     "name": "stderr",
     "output_type": "stream",
     "text": [
      "                                                                                                                       \r"
     ]
    },
    {
     "name": "stdout",
     "output_type": "stream",
     "text": [
      "Epoch 3/50, Train Loss: 0.9235, Train Accuracy: 0.6070, Val Loss: 1.1564, Val Accuracy: 0.5600\n",
      "에폭 4/50 시작\n"
     ]
    },
    {
     "name": "stderr",
     "output_type": "stream",
     "text": [
      "                                                                                                                       \r"
     ]
    },
    {
     "name": "stdout",
     "output_type": "stream",
     "text": [
      "Epoch 4/50, Train Loss: 0.7484, Train Accuracy: 0.7156, Val Loss: 0.9507, Val Accuracy: 0.5640\n",
      "모델 저장: 성능 향상됨\n",
      "에폭 5/50 시작\n"
     ]
    },
    {
     "name": "stderr",
     "output_type": "stream",
     "text": [
      "                                                                                                                       \r"
     ]
    },
    {
     "name": "stdout",
     "output_type": "stream",
     "text": [
      "Epoch 5/50, Train Loss: 0.7282, Train Accuracy: 0.7367, Val Loss: 0.7980, Val Accuracy: 0.7200\n",
      "모델 저장: 성능 향상됨\n",
      "에폭 6/50 시작\n"
     ]
    },
    {
     "name": "stderr",
     "output_type": "stream",
     "text": [
      "                                                                                                                       \r"
     ]
    },
    {
     "name": "stdout",
     "output_type": "stream",
     "text": [
      "Epoch 6/50, Train Loss: 0.6379, Train Accuracy: 0.7578, Val Loss: 0.8758, Val Accuracy: 0.6360\n",
      "에폭 7/50 시작\n"
     ]
    },
    {
     "name": "stderr",
     "output_type": "stream",
     "text": [
      "                                                                                                                       \r"
     ]
    },
    {
     "name": "stdout",
     "output_type": "stream",
     "text": [
      "Epoch 7/50, Train Loss: 0.6593, Train Accuracy: 0.7497, Val Loss: 0.4034, Val Accuracy: 0.8480\n",
      "모델 저장: 성능 향상됨\n",
      "에폭 8/50 시작\n"
     ]
    },
    {
     "name": "stderr",
     "output_type": "stream",
     "text": [
      "                                                                                                                       \r"
     ]
    },
    {
     "name": "stdout",
     "output_type": "stream",
     "text": [
      "Epoch 8/50, Train Loss: 0.4964, Train Accuracy: 0.8151, Val Loss: 0.4204, Val Accuracy: 0.8720\n",
      "에폭 9/50 시작\n"
     ]
    },
    {
     "name": "stderr",
     "output_type": "stream",
     "text": [
      "                                                                                                                       \r"
     ]
    },
    {
     "name": "stdout",
     "output_type": "stream",
     "text": [
      "Epoch 9/50, Train Loss: 0.4027, Train Accuracy: 0.8583, Val Loss: 0.3234, Val Accuracy: 0.8560\n",
      "모델 저장: 성능 향상됨\n",
      "에폭 10/50 시작\n"
     ]
    },
    {
     "name": "stderr",
     "output_type": "stream",
     "text": [
      "                                                                                                                       \r"
     ]
    },
    {
     "name": "stdout",
     "output_type": "stream",
     "text": [
      "Epoch 10/50, Train Loss: 0.3595, Train Accuracy: 0.8774, Val Loss: 0.5611, Val Accuracy: 0.8120\n",
      "에폭 11/50 시작\n"
     ]
    },
    {
     "name": "stderr",
     "output_type": "stream",
     "text": [
      "                                                                                                                       \r"
     ]
    },
    {
     "name": "stdout",
     "output_type": "stream",
     "text": [
      "Epoch 11/50, Train Loss: 0.4001, Train Accuracy: 0.8583, Val Loss: 0.2971, Val Accuracy: 0.8960\n",
      "모델 저장: 성능 향상됨\n",
      "에폭 12/50 시작\n"
     ]
    },
    {
     "name": "stderr",
     "output_type": "stream",
     "text": [
      "                                                                                                                       \r"
     ]
    },
    {
     "name": "stdout",
     "output_type": "stream",
     "text": [
      "Epoch 12/50, Train Loss: 0.2515, Train Accuracy: 0.9146, Val Loss: 0.3862, Val Accuracy: 0.9000\n",
      "에폭 13/50 시작\n"
     ]
    },
    {
     "name": "stderr",
     "output_type": "stream",
     "text": [
      "                                                                                                                       \r"
     ]
    },
    {
     "name": "stdout",
     "output_type": "stream",
     "text": [
      "Epoch 13/50, Train Loss: 0.2393, Train Accuracy: 0.9176, Val Loss: 0.3407, Val Accuracy: 0.8920\n",
      "에폭 14/50 시작\n"
     ]
    },
    {
     "name": "stderr",
     "output_type": "stream",
     "text": [
      "                                                                                                                       \r"
     ]
    },
    {
     "name": "stdout",
     "output_type": "stream",
     "text": [
      "Epoch 14/50, Train Loss: 0.2889, Train Accuracy: 0.9015, Val Loss: 0.4097, Val Accuracy: 0.9000\n",
      "에폭 15/50 시작\n"
     ]
    },
    {
     "name": "stderr",
     "output_type": "stream",
     "text": [
      "                                                                                                                       \r"
     ]
    },
    {
     "name": "stdout",
     "output_type": "stream",
     "text": [
      "Epoch 15/50, Train Loss: 0.2598, Train Accuracy: 0.9156, Val Loss: 0.2721, Val Accuracy: 0.9000\n",
      "모델 저장: 성능 향상됨\n",
      "에폭 16/50 시작\n"
     ]
    },
    {
     "name": "stderr",
     "output_type": "stream",
     "text": [
      "                                                                                                                       \r"
     ]
    },
    {
     "name": "stdout",
     "output_type": "stream",
     "text": [
      "Epoch 16/50, Train Loss: 0.2445, Train Accuracy: 0.9116, Val Loss: 0.2935, Val Accuracy: 0.9080\n",
      "에폭 17/50 시작\n"
     ]
    },
    {
     "name": "stderr",
     "output_type": "stream",
     "text": [
      "                                                                                                                       \r"
     ]
    },
    {
     "name": "stdout",
     "output_type": "stream",
     "text": [
      "Epoch 17/50, Train Loss: 0.2327, Train Accuracy: 0.9246, Val Loss: 0.2845, Val Accuracy: 0.8840\n",
      "에폭 18/50 시작\n"
     ]
    },
    {
     "name": "stderr",
     "output_type": "stream",
     "text": [
      "                                                                                                                       \r"
     ]
    },
    {
     "name": "stdout",
     "output_type": "stream",
     "text": [
      "Epoch 18/50, Train Loss: 0.1659, Train Accuracy: 0.9377, Val Loss: 0.2343, Val Accuracy: 0.9240\n",
      "모델 저장: 성능 향상됨\n",
      "에폭 19/50 시작\n"
     ]
    },
    {
     "name": "stderr",
     "output_type": "stream",
     "text": [
      "                                                                                                                       \r"
     ]
    },
    {
     "name": "stdout",
     "output_type": "stream",
     "text": [
      "Epoch 19/50, Train Loss: 0.1272, Train Accuracy: 0.9538, Val Loss: 0.1543, Val Accuracy: 0.9440\n",
      "모델 저장: 성능 향상됨\n",
      "에폭 20/50 시작\n"
     ]
    },
    {
     "name": "stderr",
     "output_type": "stream",
     "text": [
      "                                                                                                                       \r"
     ]
    },
    {
     "name": "stdout",
     "output_type": "stream",
     "text": [
      "Epoch 20/50, Train Loss: 0.1838, Train Accuracy: 0.9377, Val Loss: 0.3338, Val Accuracy: 0.8840\n",
      "에폭 21/50 시작\n"
     ]
    },
    {
     "name": "stderr",
     "output_type": "stream",
     "text": [
      "                                                                                                                       \r"
     ]
    },
    {
     "name": "stdout",
     "output_type": "stream",
     "text": [
      "Epoch 21/50, Train Loss: 0.3405, Train Accuracy: 0.8744, Val Loss: 0.3836, Val Accuracy: 0.8960\n",
      "에폭 22/50 시작\n"
     ]
    },
    {
     "name": "stderr",
     "output_type": "stream",
     "text": [
      "                                                                                                                       \r"
     ]
    },
    {
     "name": "stdout",
     "output_type": "stream",
     "text": [
      "Epoch 22/50, Train Loss: 0.1877, Train Accuracy: 0.9417, Val Loss: 0.2273, Val Accuracy: 0.9240\n",
      "에폭 23/50 시작\n"
     ]
    },
    {
     "name": "stderr",
     "output_type": "stream",
     "text": [
      "                                                                                                                       \r"
     ]
    },
    {
     "name": "stdout",
     "output_type": "stream",
     "text": [
      "Epoch 23/50, Train Loss: 0.1254, Train Accuracy: 0.9578, Val Loss: 0.3040, Val Accuracy: 0.9280\n",
      "에폭 24/50 시작\n"
     ]
    },
    {
     "name": "stderr",
     "output_type": "stream",
     "text": [
      "                                                                                                                       \r"
     ]
    },
    {
     "name": "stdout",
     "output_type": "stream",
     "text": [
      "Epoch 24/50, Train Loss: 0.2292, Train Accuracy: 0.9317, Val Loss: 0.2433, Val Accuracy: 0.9280\n",
      "에폭 25/50 시작\n"
     ]
    },
    {
     "name": "stderr",
     "output_type": "stream",
     "text": [
      "                                                                                                                       \r"
     ]
    },
    {
     "name": "stdout",
     "output_type": "stream",
     "text": [
      "Epoch 25/50, Train Loss: 0.1087, Train Accuracy: 0.9618, Val Loss: 0.2357, Val Accuracy: 0.9240\n",
      "에폭 26/50 시작\n"
     ]
    },
    {
     "name": "stderr",
     "output_type": "stream",
     "text": [
      "                                                                                                                       \r"
     ]
    },
    {
     "name": "stdout",
     "output_type": "stream",
     "text": [
      "Epoch 26/50, Train Loss: 0.0960, Train Accuracy: 0.9668, Val Loss: 0.1990, Val Accuracy: 0.9480\n",
      "에폭 27/50 시작\n"
     ]
    },
    {
     "name": "stderr",
     "output_type": "stream",
     "text": [
      "                                                                                                                       \r"
     ]
    },
    {
     "name": "stdout",
     "output_type": "stream",
     "text": [
      "Epoch 27/50, Train Loss: 0.1018, Train Accuracy: 0.9698, Val Loss: 0.3034, Val Accuracy: 0.9200\n",
      "에폭 28/50 시작\n"
     ]
    },
    {
     "name": "stderr",
     "output_type": "stream",
     "text": [
      "                                                                                                                       \r"
     ]
    },
    {
     "name": "stdout",
     "output_type": "stream",
     "text": [
      "Epoch 28/50, Train Loss: 0.0895, Train Accuracy: 0.9739, Val Loss: 0.2121, Val Accuracy: 0.9320\n",
      "에폭 29/50 시작\n"
     ]
    },
    {
     "name": "stderr",
     "output_type": "stream",
     "text": [
      "                                                                                                                       "
     ]
    },
    {
     "name": "stdout",
     "output_type": "stream",
     "text": [
      "Epoch 29/50, Train Loss: 0.0678, Train Accuracy: 0.9759, Val Loss: 0.4421, Val Accuracy: 0.9040\n",
      "Early stopping!\n"
     ]
    },
    {
     "name": "stderr",
     "output_type": "stream",
     "text": [
      "\r"
     ]
    },
    {
     "data": {
      "image/png": "[encoded data removed]",
      "text/plain": [
       "<Figure size 1200x500 with 2 Axes>"
      ]
     },
     "metadata": {},
     "output_type": "display_data"
    }
   ],
   "source": [
    "original_audio_dataset = 'dataset/original'\n",
    "aug_audio_dataset = 'dataset/augmented'\n",
    "\n",
    "# 데이터 로딩\n",
    "audio_files, classes = load_data(original_audio_dataset)\n",
    "\n",
    "# 데이터 증강\n",
    "augment_data(audio_files, classes, aug_audio_dataset)\n",
    "\n",
    "# 데이터 로딩\n",
    "audio_files, classes = load_data(aug_audio_dataset)\n",
    "X_train_files, X_test_files, Y_train, Y_test = train_test_split(audio_files, classes, test_size=0.2, random_state=42, stratify=classes)\n",
    "\n",
    "label_encoder = LabelEncoder()\n",
    "label_encoder.fit(Y_train + Y_test)\n",
    "\n",
    "# 정규화\n",
    "transform = transforms.Compose([\n",
    "    MelSpecToTensor(),\n",
    "    transforms.Normalize((0.5,), (0.5,))\n",
    "])\n",
    "\n",
    "# 데이터셋 준비\n",
    "train_dataset = CryingDataset(X_train_files, Y_train, label_encoder, transform=transform)\n",
    "test_dataset = CryingDataset(X_test_files, Y_test, label_encoder, transform=transform)\n",
    "\n",
    "# 데이터 로더 준비\n",
    "train_loader = DataLoader(train_dataset, batch_size=batch_size, shuffle=True)\n",
    "test_loader = DataLoader(test_dataset, batch_size=batch_size, shuffle=False)\n",
    "\n",
    "model = CryingResNet(num_classes=len(label_encoder.classes_)).to(device)\n",
    "criterion = nn.CrossEntropyLoss()\n",
    "optimizer = optim.Adam(model.parameters(), lr=0.001)\n",
    "\n",
    "\n",
    "# 학습 및 검증 손실, 정확도 기록\n",
    "train_losses = []\n",
    "val_losses = []\n",
    "train_accuracies = []\n",
    "val_accuracies = []\n",
    "\n",
    "# 학습 및 평가 출력\n",
    "print(\"모델 학습 시작\")\n",
    "best_val_loss = float('inf')\n",
    "early_stopping_patience = 10\n",
    "epochs_no_improve = 0\n",
    "num_epochs = 50\n",
    "\n",
    "for epoch in range(num_epochs):\n",
    "    print(f\"에폭 {epoch+1}/{num_epochs} 시작\")\n",
    "    train_loss, train_accuracy = train(model, train_loader, criterion, optimizer)\n",
    "    val_loss, val_accuracy, val_preds, val_labels = validate(model, test_loader, criterion)\n",
    "\n",
    "    train_losses.append(train_loss)\n",
    "    val_losses.append(val_loss)\n",
    "    train_accuracies.append(train_accuracy)\n",
    "    val_accuracies.append(val_accuracy)\n",
    "\n",
    "    print(f'Epoch {epoch+1}/{num_epochs}, Train Loss: {train_loss:.4f}, Train Accuracy: {train_accuracy:.4f}, Val Loss: {val_loss:.4f}, Val Accuracy: {val_accuracy:.4f}')\n",
    "\n",
    "    if val_loss < best_val_loss:\n",
    "        best_val_loss = val_loss\n",
    "        torch.save(model.state_dict(), 'analyzeCrying.pth')\n",
    "        epochs_no_improve = 0\n",
    "        print(\"모델 저장: 성능 향상됨\")\n",
    "    else:\n",
    "        epochs_no_improve += 1\n",
    "\n",
    "    if epochs_no_improve >= early_stopping_patience:\n",
    "        print('Early stopping!')\n",
    "        break\n",
    "\n",
    "# 손실과 정확도 그래프\n",
    "plt.figure(figsize=(12, 5))\n",
    "\n",
    "plt.subplot(1, 2, 1)\n",
    "plt.plot(train_losses, label='Train Loss')\n",
    "plt.plot(val_losses, label='Validation Loss')\n",
    "plt.xlabel('Epoch')\n",
    "plt.ylabel('Loss')\n",
    "plt.legend()\n",
    "plt.title('Training and Validation Loss')\n",
    "\n",
    "plt.subplot(1, 2, 2)\n",
    "plt.plot(train_accuracies, label='Train Accuracy')\n",
    "plt.plot(val_accuracies, label='Validation Accuracy')\n",
    "plt.xlabel('Epoch')\n",
    "plt.ylabel('Accuracy')\n",
    "plt.legend()\n",
    "plt.title('Training and Validation Accuracy')\n",
    "\n",
    "plt.show()"
   ]
  },
  {
   "cell_type": "code",
   "execution_count": 11,
   "id": "77b44247-0d9e-48bb-97bf-561f09e079bf",
   "metadata": {},
   "outputs": [
    {
     "data": {
      "image/png": "[encoded data removed]",
      "text/plain": [
       "<Figure size 1000x700 with 2 Axes>"
      ]
     },
     "metadata": {},
     "output_type": "display_data"
    }
   ],
   "source": [
    "# 혼동 행렬 시각화\n",
    "conf_matrix = confusion_matrix(val_labels, val_preds)\n",
    "plt.figure(figsize=(10, 7))\n",
    "sb.heatmap(conf_matrix, annot=True, fmt=\"d\", cmap=\"Blues\", xticklabels=label_encoder.classes_, yticklabels=label_encoder.classes_)\n",
    "plt.xlabel('Predicted')\n",
    "plt.ylabel('True')\n",
    "plt.title('Confusion Matrix')\n",
    "plt.show()"
   ]
  },
  {
   "cell_type": "markdown",
   "id": "60a0db7f",
   "metadata": {},
   "source": [
    "## 결과보고서"
   ]
  },
  {
   "cell_type": "code",
   "execution_count": 12,
   "id": "760375f5-1639-43c5-9754-5d34f7ff67fd",
   "metadata": {},
   "outputs": [
    {
     "name": "stdout",
     "output_type": "stream",
     "text": [
      "Classification Report:\n",
      "              precision    recall  f1-score   support\n",
      "\n",
      "  discomfort       0.83      0.98      0.90        63\n",
      "      hungry       0.90      0.85      0.88        62\n",
      "        pain       0.98      0.92      0.95        63\n",
      "       tired       0.93      0.85      0.89        62\n",
      "\n",
      "    accuracy                           0.90       250\n",
      "   macro avg       0.91      0.90      0.90       250\n",
      "weighted avg       0.91      0.90      0.90       250\n",
      "\n"
     ]
    }
   ],
   "source": [
    "print('Classification Report:')\n",
    "print(classification_report(val_labels, val_preds, target_names=label_encoder.classes_))"
   ]
  },
  {
   "cell_type": "markdown",
   "id": "e44d1889",
   "metadata": {},
   "source": [
    "## 테스트 코드"
   ]
  },
  {
   "cell_type": "code",
   "execution_count": 19,
   "id": "c3e74b72-8976-4441-ac81-4089d95ad0f2",
   "metadata": {},
   "outputs": [
    {
     "name": "stdout",
     "output_type": "stream",
     "text": [
      "Sample 1:\n",
      "  File: dataset\\augmented\\original\\pain\\d6cda191-4962-4308-9a36-46d5648a95ed-1431700390946-1.7-m-04-bp_365_4.wav\n",
      "  True Label: 2\n",
      "  Predicted Label: pain\n",
      "\n",
      "Sample 2:\n",
      "  File: dataset\\augmented\\original\\pain\\69BDA5D6-0276-4462-9BF7-951799563728-1436936185-1.1-m-26-bp_359_21.wav\n",
      "  True Label: 2\n",
      "  Predicted Label: pain\n",
      "\n",
      "Sample 3:\n",
      "  File: dataset\\augmented\\original\\tired\\B2AABCE0-1F62-4B57-B58A-308959ABDFE7-1437188766-1.1-m-26-ti_377_0.wav\n",
      "  True Label: 3\n",
      "  Predicted Label: tired\n",
      "\n",
      "Sample 4:\n",
      "  File: dataset\\augmented\\original\\hungry\\2562ad82-485a-44c2-ad25-f70fce71480b-1430045593479-1.7-m-72-hu.wav\n",
      "  True Label: 1\n",
      "  Predicted Label: hungry\n",
      "\n",
      "Sample 5:\n",
      "  File: dataset\\augmented\\original\\tired\\cecd525b-18fd-49e3-b2b9-dfb08b93ad95-1430110029205-1.7-m-26-ti_383_4.wav\n",
      "  True Label: 3\n",
      "  Predicted Label: discomfort\n",
      "\n"
     ]
    }
   ],
   "source": [
    "# import random\n",
    "\n",
    "# def evaluate_random_samples(model, test_files, test_labels, label_encoder, num_samples=5):\n",
    "#     model.eval()\n",
    "#     sampled_indices = random.sample(range(len(test_files)), num_samples)\n",
    "#     sampled_files = [test_files[i] for i in sampled_indices]\n",
    "#     sampled_labels = [test_labels[i] for i in sampled_indices]\n",
    "\n",
    "#     with torch.no_grad():\n",
    "#         for i, (file, true_label) in enumerate(zip(sampled_files, sampled_labels)):\n",
    "#             mel_spec = preprocess_audio_with_windows(file)\n",
    "#             if mel_spec is not None:\n",
    "#                 mel_spec = torch.tensor(mel_spec, dtype=torch.float32).unsqueeze(0).repeat(3, 1, 1)  # Convert to tensor and repeat channels\n",
    "#                 mel_spec = transforms.Normalize((0.5,), (0.5,))(mel_spec)  # Apply normalization\n",
    "#                 mel_spec = mel_spec.unsqueeze(0).to(device)  # Add batch dimension and move to device\n",
    "#                 output = model(mel_spec)\n",
    "#                 pred_label = torch.argmax(output, dim=1).item()\n",
    "#                 predicted_class = label_encoder.inverse_transform([pred_label])[0]\n",
    "#                 true_class = true_label  # true_label이 이미 인코딩된 상태라면 그대로 사용\n",
    "#                 print(f\"Sample {i+1}:\")\n",
    "#                 print(f\"  File: {file}\")\n",
    "#                 print(f\"  True Label: {true_class}\")\n",
    "#                 print(f\"  Predicted Label: {predicted_class}\")\n",
    "#                 print()\n",
    "\n",
    "# # 테스트셋의 레이블을 먼저 인코딩된 상태로 변환\n",
    "# Y_test_encoded = label_encoder.transform(Y_test)\n",
    "\n",
    "# # 학습 후 테스트셋 중 랜덤으로 5개를 뽑아서 평가\n",
    "# evaluate_random_samples(model, X_test_files, Y_test_encoded, label_encoder, num_samples=5)"
   ]
  },
  {
   "cell_type": "code",
   "execution_count": null,
   "id": "1d5de92f-198f-4935-b0d5-526895e1b300",
   "metadata": {},
   "outputs": [],
   "source": []
  },
  {
   "cell_type": "code",
   "execution_count": null,
   "id": "03bc8edc-7115-409c-b326-6babe7c5279d",
   "metadata": {},
   "outputs": [],
   "source": []
  },
  {
   "cell_type": "code",
   "execution_count": null,
   "id": "349841f2-768b-42ba-adb8-0ed8e402d32f",
   "metadata": {},
   "outputs": [],
   "source": []
  },
  {
   "cell_type": "code",
   "execution_count": null,
   "id": "80156638-8575-458e-aa38-9b1ce09159d1",
   "metadata": {},
   "outputs": [],
   "source": []
  }
 ],
 "metadata": {
  "kernelspec": {
   "display_name": "cuda",
   "language": "python",
   "name": "cuda"
  },
  "language_info": {
   "codemirror_mode": {
    "name": "ipython",
    "version": 3
   },
   "file_extension": ".py",
   "mimetype": "text/x-python",
   "name": "python",
   "nbconvert_exporter": "python",
   "pygments_lexer": "ipython3",
   "version": "3.9.19"
  }
 },
 "nbformat": 4,
 "nbformat_minor": 5
}
